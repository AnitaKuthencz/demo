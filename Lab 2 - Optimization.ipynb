{
 "cells": [
  {
   "cell_type": "code",
   "execution_count": 1,
   "id": "9153e71f",
   "metadata": {},
   "outputs": [],
   "source": [
    "from pulp import *\n",
    "import numpy as np"
   ]
  },
  {
   "cell_type": "code",
   "execution_count": 2,
   "id": "24e762f9",
   "metadata": {},
   "outputs": [
    {
     "data": {
      "text/plain": [
       "{0: {0: x_0_0, 1: x_0_1},\n",
       " 1: {0: x_1_0, 1: x_1_1},\n",
       " 2: {0: x_2_0, 1: x_2_1},\n",
       " 3: {0: x_3_0, 1: x_3_1},\n",
       " 4: {0: x_4_0, 1: x_4_1}}"
      ]
     },
     "execution_count": 2,
     "metadata": {},
     "output_type": "execute_result"
    }
   ],
   "source": [
    "# Define Decision Variables\n",
    "\n",
    "# Indices\n",
    "\n",
    "n1 = 5\n",
    "n2 = 2\n",
    "\n",
    "# Binary Variables for the items\n",
    "x = LpVariable.dicts(\"x\", (range(0, n1), range(0, n2)), lowBound = 0, upBound = 1, cat = LpInteger)\n",
    "\n",
    "# Variable for the benefits\n",
    "b = np.array([10, 9, 6, 3, 14])\n",
    "# Variable for the weights\n",
    "w = np.array([7, 6, 13, 4, 9])\n",
    "\n",
    "x"
   ]
  },
  {
   "cell_type": "code",
   "execution_count": 3,
   "id": "fe6212ce",
   "metadata": {
    "scrolled": true
   },
   "outputs": [
    {
     "name": "stderr",
     "output_type": "stream",
     "text": [
      "/Users/rohitrmohanty/anaconda3/lib/python3.11/site-packages/pulp/pulp.py:1316: UserWarning: Spaces are not permitted in the name. Converted to '_'\n",
      "  warnings.warn(\"Spaces are not permitted in the name. Converted to '_'\")\n"
     ]
    },
    {
     "data": {
      "text/plain": [
       "Hiking_Trip:\n",
       "MAXIMIZE\n",
       "10*x_0_0 + 10*x_0_1 + 9*x_1_0 + 9*x_1_1 + 6*x_2_0 + 6*x_2_1 + 3*x_3_0 + 3*x_3_1 + 14*x_4_0 + 14*x_4_1 + 0\n",
       "SUBJECT TO\n",
       "Wife\"s_Weight_Constraint: 7 x_0_0 + 6 x_1_0 + 13 x_2_0 + 4 x_3_0 + 9 x_4_0\n",
       " <= 17\n",
       "\n",
       "Husband\"s_Weight_Constraint: 7 x_0_1 + 6 x_1_1 + 13 x_2_1 + 4 x_3_1 + 9 x_4_1\n",
       " <= 20\n",
       "\n",
       "Husband\"s_Lamp_Constraint: x_0_1 - x_1_1 <= 0\n",
       "\n",
       "Wife\"s_Axe_Constraint: x_2_0 - x_4_1 <= 0\n",
       "\n",
       "Lamp_and_Rope_Constraint: x_1_0 + x_1_1 + x_4_0 + x_4_1 <= 1\n",
       "\n",
       "Wife\"s_Binocular_Constraint: x_0_1 + x_1_1 - x_3_0 <= 1\n",
       "\n",
       "Total_Binocular_Constraint: x_0_0 + x_0_1 + x_1_0 + x_1_1 - x_3_0 - x_3_1 <= 1\n",
       "\n",
       "VARIABLES\n",
       "0 <= x_0_0 <= 1 Integer\n",
       "0 <= x_0_1 <= 1 Integer\n",
       "0 <= x_1_0 <= 1 Integer\n",
       "0 <= x_1_1 <= 1 Integer\n",
       "0 <= x_2_0 <= 1 Integer\n",
       "0 <= x_2_1 <= 1 Integer\n",
       "0 <= x_3_0 <= 1 Integer\n",
       "0 <= x_3_1 <= 1 Integer\n",
       "0 <= x_4_0 <= 1 Integer\n",
       "0 <= x_4_1 <= 1 Integer"
      ]
     },
     "execution_count": 3,
     "metadata": {},
     "output_type": "execute_result"
    }
   ],
   "source": [
    "# Defining the objective function\n",
    "hiking_problem = LpProblem(\"Hiking Trip\", LpMaximize)\n",
    "\n",
    "# Objective Function for maximising the benefit\n",
    "hiking_problem += lpSum([ b[i] * x[i][j] for i in range(0, n1) for j in range(0, n2) ]), 'Objective Function'\n",
    "hiking_problem\n",
    "\n",
    "# Define Weight Constraints\n",
    "\n",
    "hiking_problem += (lpSum([ w[i] * x[i][0] for i in range(0, n1) ]) <= 17), 'Wife\"s Weight Constraint'\n",
    "hiking_problem += (lpSum([ w[i] * x[i][1] for i in range(0, n1) ]) <= 20), 'Husband\"s Weight Constraint'\n",
    "\n",
    "# Special Constraints\n",
    "\n",
    "hiking_problem += (x[0][1] <= x[1][1]), 'Husband\"s Lamp Constraint'\n",
    "hiking_problem += (x[2][0] <= x[4][1]), 'Wife\"s Axe Constraint'\n",
    "hiking_problem += (x[1][0] + x[1][1] + x[4][0] + x[4][1] <= 1), 'Lamp and Rope Constraint'\n",
    "hiking_problem += (x[0][1] + x[1][1] <= 1 + x[3][0]), 'Wife\"s Binocular Constraint'\n",
    "hiking_problem += (x[0][1] +  x[0][0] + x[1][0] + x[1][1] <= 1 + x[3][0] + x[3][1]), 'Total Binocular Constraint'\n",
    "\n",
    "hiking_problem"
   ]
  },
  {
   "cell_type": "code",
   "execution_count": 4,
   "id": "761026e4",
   "metadata": {},
   "outputs": [
    {
     "name": "stdout",
     "output_type": "stream",
     "text": [
      "Welcome to the CBC MILP Solver \n",
      "Version: 2.10.3 \n",
      "Build Date: Dec 15 2019 \n",
      "\n",
      "command line - /Users/rohitrmohanty/anaconda3/lib/python3.11/site-packages/pulp/solverdir/cbc/osx/64/cbc /var/folders/ny/86g8ts6166980f8hyjtyprwc0000gn/T/40574988373a4c54890ff7a223d1e5bb-pulp.mps -max -timeMode elapsed -branch -printingOptions all -solution /var/folders/ny/86g8ts6166980f8hyjtyprwc0000gn/T/40574988373a4c54890ff7a223d1e5bb-pulp.sol (default strategy 1)\n",
      "At line 2 NAME          MODEL\n",
      "At line 3 ROWS\n",
      "At line 12 COLUMNS\n",
      "At line 70 RHS\n",
      "At line 78 BOUNDS\n",
      "At line 89 ENDATA\n",
      "Problem MODEL has 7 rows, 10 columns and 27 elements\n",
      "Coin0008I MODEL read with 0 errors\n",
      "Option for timeMode changed from cpu to elapsed\n",
      "Continuous objective value is 37.6982 - 0.00 seconds\n",
      "Cgl0003I 0 fixed, 0 tightened bounds, 4 strengthened rows, 0 substitutions\n",
      "Cgl0003I 0 fixed, 0 tightened bounds, 2 strengthened rows, 0 substitutions\n",
      "Cgl0003I 0 fixed, 0 tightened bounds, 2 strengthened rows, 0 substitutions\n",
      "Cgl0003I 0 fixed, 0 tightened bounds, 1 strengthened rows, 0 substitutions\n",
      "Cgl0004I processed model has 7 rows, 10 columns (10 integer (10 of which binary)) and 35 elements\n",
      "Cutoff increment increased from 1e-05 to 0.9999\n",
      "Cbc0038I Initial state - 3 integers unsatisfied sum - 0.820513\n",
      "Cbc0038I Pass   1: suminf.    0.33333 (1) obj. -31.3333 iterations 2\n",
      "Cbc0038I Solution found of -22\n",
      "Cbc0038I Rounding solution of -31 is better than previous of -22\n",
      "\n",
      "Cbc0038I Before mini branch and bound, 7 integers at bound fixed and 0 continuous\n",
      "Cbc0038I Full problem 7 rows 10 columns, reduced to 0 rows 0 columns\n",
      "Cbc0038I Mini branch and bound did not improve solution (0.05 seconds)\n",
      "Cbc0038I Round again with cutoff of -32.3076\n",
      "Cbc0038I Reduced cost fixing fixed 2 variables on major pass 2\n",
      "Cbc0038I Pass   2: suminf.    0.40292 (2) obj. -32.3076 iterations 1\n",
      "Cbc0038I Pass   3: suminf.    0.46154 (1) obj. -33.2308 iterations 3\n",
      "Cbc0038I Pass   4: suminf.    0.38460 (1) obj. -32.3076 iterations 2\n",
      "Cbc0038I Pass   5: suminf.    0.46154 (1) obj. -32.7692 iterations 4\n",
      "Cbc0038I Pass   6: suminf.    0.38460 (1) obj. -32.3076 iterations 3\n",
      "Cbc0038I Pass   7: suminf.    1.05127 (3) obj. -32.3076 iterations 1\n",
      "Cbc0038I Pass   8: suminf.    1.05127 (3) obj. -32.3076 iterations 0\n",
      "Cbc0038I Pass   9: suminf.    0.11540 (1) obj. -32.3076 iterations 5\n",
      "Cbc0038I Solution found of -33\n",
      "Cbc0038I Before mini branch and bound, 5 integers at bound fixed and 0 continuous\n",
      "Cbc0038I Mini branch and bound did not improve solution (0.05 seconds)\n",
      "Cbc0038I Round again with cutoff of -34.2153\n",
      "Cbc0038I Reduced cost fixing fixed 5 variables on major pass 3\n",
      "Cbc0038I Pass  10: suminf.    0.67242 (3) obj. -34.2153 iterations 1\n",
      "Cbc0038I Pass  11: suminf.    1.00850 (3) obj. -34.2153 iterations 1\n",
      "Cbc0038I Pass  12: suminf.    1.00850 (3) obj. -34.2153 iterations 0\n",
      "Cbc0038I Pass  13: suminf.    0.96412 (3) obj. -34.2153 iterations 2\n",
      "Cbc0038I Pass  14: suminf.    1.00850 (3) obj. -34.2153 iterations 1\n",
      "Cbc0038I Pass  15: suminf.    1.00850 (3) obj. -34.2153 iterations 0\n",
      "Cbc0038I Pass  16: suminf.    0.67242 (3) obj. -34.2153 iterations 1\n",
      "Cbc0038I Pass  17: suminf.    0.67242 (3) obj. -34.2153 iterations 0\n",
      "Cbc0038I Pass  18: suminf.    0.67242 (3) obj. -34.2153 iterations 0\n",
      "Cbc0038I Pass  19: suminf.    0.67242 (3) obj. -34.2153 iterations 0\n",
      "Cbc0038I Pass  20: suminf.    0.67242 (3) obj. -34.2153 iterations 0\n",
      "Cbc0038I Pass  21: suminf.    0.96412 (3) obj. -34.2153 iterations 1\n",
      "Cbc0038I Pass  22: suminf.    0.96412 (3) obj. -34.2153 iterations 0\n",
      "Cbc0038I Pass  23: suminf.    0.67242 (3) obj. -34.2153 iterations 1\n",
      "Cbc0038I Pass  24: suminf.    0.67242 (3) obj. -34.2153 iterations 0\n",
      "Cbc0038I Pass  25: suminf.    0.67242 (3) obj. -34.2153 iterations 0\n",
      "Cbc0038I Pass  26: suminf.    0.67242 (3) obj. -34.2153 iterations 0\n",
      "Cbc0038I Pass  27: suminf.    1.00850 (3) obj. -34.2153 iterations 1\n",
      "Cbc0038I Pass  28: suminf.    0.96412 (3) obj. -34.2153 iterations 2\n",
      "Cbc0038I Pass  29: suminf.    0.67242 (3) obj. -34.2153 iterations 1\n",
      "Cbc0038I Pass  30: suminf.    1.00850 (3) obj. -34.2153 iterations 1\n",
      "Cbc0038I Pass  31: suminf.    1.00850 (3) obj. -34.2153 iterations 0\n",
      "Cbc0038I Pass  32: suminf.    1.00850 (3) obj. -34.2153 iterations 0\n",
      "Cbc0038I Pass  33: suminf.    1.00850 (3) obj. -34.2153 iterations 0\n",
      "Cbc0038I Pass  34: suminf.    1.00850 (3) obj. -34.2153 iterations 0\n",
      "Cbc0038I Pass  35: suminf.    0.96412 (3) obj. -34.2153 iterations 2\n",
      "Cbc0038I Pass  36: suminf.    0.67242 (3) obj. -34.2153 iterations 1\n",
      "Cbc0038I Pass  37: suminf.    1.00850 (3) obj. -34.2153 iterations 1\n",
      "Cbc0038I Pass  38: suminf.    1.00850 (3) obj. -34.2153 iterations 0\n",
      "Cbc0038I Pass  39: suminf.    0.96412 (3) obj. -34.2153 iterations 2\n",
      "Cbc0038I No solution found this major pass\n",
      "Cbc0038I Before mini branch and bound, 7 integers at bound fixed and 0 continuous\n",
      "Cbc0038I Mini branch and bound did not improve solution (0.05 seconds)\n",
      "Cbc0038I After 0.05 seconds - Feasibility pump exiting with objective of -33 - took 0.00 seconds\n",
      "Cbc0012I Integer solution of -33 found by feasibility pump after 0 iterations and 0 nodes (0.05 seconds)\n",
      "Cbc0012I Integer solution of -35 found by DiveCoefficient after 0 iterations and 0 nodes (0.05 seconds)\n",
      "Cbc0001I Search completed - best objective -35, took 2 iterations and 0 nodes (0.05 seconds)\n",
      "Cbc0035I Maximum depth 0, 6 variables fixed on reduced cost\n",
      "Cuts at root node changed objective from -35.0769 to -33.2308\n",
      "Probing was tried 0 times and created 0 cuts of which 0 were active after adding rounds of cuts (0.000 seconds)\n",
      "Gomory was tried 0 times and created 0 cuts of which 0 were active after adding rounds of cuts (0.000 seconds)\n",
      "Knapsack was tried 0 times and created 0 cuts of which 0 were active after adding rounds of cuts (0.000 seconds)\n",
      "Clique was tried 0 times and created 0 cuts of which 0 were active after adding rounds of cuts (0.000 seconds)\n",
      "MixedIntegerRounding2 was tried 0 times and created 0 cuts of which 0 were active after adding rounds of cuts (0.000 seconds)\n",
      "FlowCover was tried 0 times and created 0 cuts of which 0 were active after adding rounds of cuts (0.000 seconds)\n",
      "TwoMirCuts was tried 0 times and created 0 cuts of which 0 were active after adding rounds of cuts (0.000 seconds)\n",
      "ZeroHalf was tried 0 times and created 0 cuts of which 0 were active after adding rounds of cuts (0.000 seconds)\n",
      "\n",
      "Result - Optimal solution found\n",
      "\n",
      "Objective value:                35.00000000\n",
      "Enumerated nodes:               0\n",
      "Total iterations:               2\n",
      "Time (CPU seconds):             0.00\n",
      "Time (Wallclock seconds):       0.05\n",
      "\n",
      "Option for printingOptions changed from normal to all\n",
      "Total time (CPU seconds):       0.01   (Wallclock seconds):       0.06\n",
      "\n"
     ]
    },
    {
     "data": {
      "text/plain": [
       "1"
      ]
     },
     "execution_count": 4,
     "metadata": {},
     "output_type": "execute_result"
    }
   ],
   "source": [
    "# Solve the problem\n",
    "hiking_problem.solve()"
   ]
  },
  {
   "cell_type": "code",
   "execution_count": 5,
   "id": "ec373aeb",
   "metadata": {},
   "outputs": [
    {
     "name": "stdout",
     "output_type": "stream",
     "text": [
      "Maximum Benefit:  35.0\n",
      "The item  0 is in sack  0\n",
      "The item  0 is in sack  1\n",
      "The item  1 is in sack  1\n",
      "The item  3 is in sack  0\n",
      "The item  3 is in sack  1\n"
     ]
    }
   ],
   "source": [
    "print(\"Maximum Benefit: \", value(hiking_problem.objective))\n",
    "\n",
    "for i in range(0, n1):\n",
    "    for j in range(0, n2):\n",
    "        if value(x[i][j]) == 1:\n",
    "            print(\"The item \", i, \"is in sack \", j)"
   ]
  }
 ],
 "metadata": {
  "kernelspec": {
   "display_name": "Python 3 (ipykernel)",
   "language": "python",
   "name": "python3"
  },
  "language_info": {
   "codemirror_mode": {
    "name": "ipython",
    "version": 3
   },
   "file_extension": ".py",
   "mimetype": "text/x-python",
   "name": "python",
   "nbconvert_exporter": "python",
   "pygments_lexer": "ipython3",
   "version": "3.11.3"
  }
 },
 "nbformat": 4,
 "nbformat_minor": 5
}
